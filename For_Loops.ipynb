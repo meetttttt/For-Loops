{
 "cells": [
  {
   "cell_type": "markdown",
   "id": "59390cc9-d663-4efe-8a20-3b5ed38f0c97",
   "metadata": {},
   "source": [
    "# Basic Level:"
   ]
  },
  {
   "cell_type": "markdown",
   "id": "1dc49ce2-a961-47b6-aa62-10509c849bba",
   "metadata": {},
   "source": [
    "1. Write a Python program to print the numbers from 1 to 10 using a `for` loop."
   ]
  },
  {
   "cell_type": "code",
   "execution_count": 1,
   "id": "da223411-fb2c-4abc-b0ec-7d319c05ebf5",
   "metadata": {},
   "outputs": [
    {
     "name": "stdout",
     "output_type": "stream",
     "text": [
      "1\n",
      "2\n",
      "3\n",
      "4\n",
      "5\n",
      "6\n",
      "7\n",
      "8\n",
      "9\n",
      "10\n"
     ]
    }
   ],
   "source": [
    "# Using a for loop to print numbers from 1 to 10\n",
    "for number in range(1, 11):\n",
    "    print(number)\n"
   ]
  },
  {
   "cell_type": "markdown",
   "id": "8735148a-99c3-423f-b6b4-074c56bdfff1",
   "metadata": {},
   "source": [
    "2. Create a program that calculates the sum of all numbers in a list using a `for` loop."
   ]
  },
  {
   "cell_type": "code",
   "execution_count": 2,
   "id": "3b3d95e4-eebe-491b-8ffc-24a29b0befbc",
   "metadata": {},
   "outputs": [
    {
     "name": "stdout",
     "output_type": "stream",
     "text": [
      "Sum of numbers: 15\n"
     ]
    }
   ],
   "source": [
    "# Create a list of numbers\n",
    "numbers = [1, 2, 3, 4, 5]\n",
    "\n",
    "# Initialize a variable to store the sum\n",
    "sum_of_numbers = 0\n",
    "\n",
    "# Use a for loop to calculate the sum\n",
    "for number in numbers:\n",
    "    sum_of_numbers += number\n",
    "\n",
    "# Print the sum\n",
    "print(\"Sum of numbers:\", sum_of_numbers)\n"
   ]
  },
  {
   "cell_type": "markdown",
   "id": "0d7d9895-600a-4d7a-b475-b655937a10f6",
   "metadata": {},
   "source": [
    "3. Write a program to print the characters of a string in reverse order using a `for` loop."
   ]
  },
  {
   "cell_type": "code",
   "execution_count": 4,
   "id": "87031360-b8bb-41aa-ad90-e3552da54007",
   "metadata": {},
   "outputs": [
    {
     "name": "stdout",
     "output_type": "stream",
     "text": [
      "Original List: Hello, World!\n",
      "Reversed string: !dlroW ,olleH\n"
     ]
    }
   ],
   "source": [
    "# Input string\n",
    "input_string = \"Hello, World!\"\n",
    "\n",
    "# Displaying the Original String\n",
    "print(\"Original List:\", input_string)\n",
    "\n",
    "# Initialize an empty string to store the reversed characters\n",
    "reversed_string = \"\"\n",
    "\n",
    "# Use a for loop to reverse the string\n",
    "for char in input_string[::-1]:\n",
    "    reversed_string += char\n",
    "\n",
    "# Print the reversed string\n",
    "print(\"Reversed string:\", reversed_string)\n"
   ]
  },
  {
   "cell_type": "markdown",
   "id": "4105f4f6-1c8c-4bd7-b12f-dc7f5bd938bd",
   "metadata": {},
   "source": [
    "4. Develop a program that finds the factorial of a given number using a `for` loop."
   ]
  },
  {
   "cell_type": "code",
   "execution_count": 5,
   "id": "d2c43788-3f11-4b2f-a969-398919a40a84",
   "metadata": {},
   "outputs": [
    {
     "name": "stdin",
     "output_type": "stream",
     "text": [
      "Enter a number:  5\n"
     ]
    },
    {
     "name": "stdout",
     "output_type": "stream",
     "text": [
      "The factorial of 5 is 120\n"
     ]
    }
   ],
   "source": [
    "# Input: The number for which you want to find the factorial\n",
    "number = int(input(\"Enter a number: \"))\n",
    "\n",
    "# Initialize a variable to store the factorial (start with 1 for the multiplication)\n",
    "factorial = 1\n",
    "\n",
    "# Use a for loop to calculate the factorial\n",
    "for i in range(1, number + 1):\n",
    "    factorial *= i\n",
    "\n",
    "# Print the factorial\n",
    "print(f\"The factorial of {number} is {factorial}\")\n"
   ]
  },
  {
   "cell_type": "markdown",
   "id": "73fa645a-fb2e-4549-8808-ee5ac46c6265",
   "metadata": {},
   "source": [
    "5. Create a program to print the multiplication table of a given number using a `for` loop."
   ]
  },
  {
   "cell_type": "code",
   "execution_count": 6,
   "id": "5164a559-e034-4990-8abf-3dda468d9ba2",
   "metadata": {},
   "outputs": [
    {
     "name": "stdin",
     "output_type": "stream",
     "text": [
      "Enter a number:  7\n"
     ]
    },
    {
     "name": "stdout",
     "output_type": "stream",
     "text": [
      "Multiplication table for 7:\n",
      "7 x 1 = 7\n",
      "7 x 2 = 14\n",
      "7 x 3 = 21\n",
      "7 x 4 = 28\n",
      "7 x 5 = 35\n",
      "7 x 6 = 42\n",
      "7 x 7 = 49\n",
      "7 x 8 = 56\n",
      "7 x 9 = 63\n",
      "7 x 10 = 70\n"
     ]
    }
   ],
   "source": [
    "# Input: The number for which you want to generate the multiplication table\n",
    "number = int(input(\"Enter a number: \"))\n",
    "\n",
    "# Number of terms in the multiplication table\n",
    "terms = 10  # You can change this to generate more or fewer terms\n",
    "\n",
    "# Generate and print the multiplication table using a for loop\n",
    "print(f\"Multiplication table for {number}:\")\n",
    "\n",
    "for i in range(1, terms + 1):\n",
    "    result = number * i\n",
    "    print(f\"{number} x {i} = {result}\")\n"
   ]
  },
  {
   "cell_type": "markdown",
   "id": "0abee947-771e-4512-b7c3-ad51efa3605d",
   "metadata": {},
   "source": [
    "6. Write a program that counts the number of even and odd numbers in a list using a `for` loop."
   ]
  },
  {
   "cell_type": "code",
   "execution_count": 7,
   "id": "61c4b222-b5e3-44d3-be96-5a2545667eab",
   "metadata": {},
   "outputs": [
    {
     "name": "stdout",
     "output_type": "stream",
     "text": [
      "Number of even numbers: 5\n",
      "Number of odd numbers: 5\n"
     ]
    }
   ],
   "source": [
    "# Create a list of numbers\n",
    "numbers = [1, 2, 3, 4, 5, 6, 7, 8, 9, 10]\n",
    "\n",
    "# Initialize counters for even and odd numbers\n",
    "even_count = 0\n",
    "odd_count = 0\n",
    "\n",
    "# Use a for loop to count even and odd numbers\n",
    "for number in numbers:\n",
    "    if number % 2 == 0:\n",
    "        even_count += 1\n",
    "    else:\n",
    "        odd_count += 1\n",
    "\n",
    "# Print the counts\n",
    "print(\"Number of even numbers:\", even_count)\n",
    "print(\"Number of odd numbers:\", odd_count)\n"
   ]
  },
  {
   "cell_type": "markdown",
   "id": "211029ba-e2f5-493a-97a0-ff8dc8af18e3",
   "metadata": {},
   "source": [
    "7. Develop a program that prints the squares of numbers from 1 to 5 using a `for` loop."
   ]
  },
  {
   "cell_type": "code",
   "execution_count": 8,
   "id": "4fb99158-1188-4ab1-b64a-fabceceae48f",
   "metadata": {},
   "outputs": [
    {
     "name": "stdout",
     "output_type": "stream",
     "text": [
      "The square of 1 is 1\n",
      "The square of 2 is 4\n",
      "The square of 3 is 9\n",
      "The square of 4 is 16\n",
      "The square of 5 is 25\n"
     ]
    }
   ],
   "source": [
    "# Use a for loop to print the squares of numbers from 1 to 5\n",
    "for number in range(1, 6):\n",
    "    square = number ** 2\n",
    "    print(f\"The square of {number} is {square}\")\n"
   ]
  },
  {
   "cell_type": "markdown",
   "id": "fa510ff1-2a3c-4298-aee2-cae91aeb348c",
   "metadata": {},
   "source": [
    "8. Create a program to find the length of a string without using the `len()` function."
   ]
  },
  {
   "cell_type": "code",
   "execution_count": 9,
   "id": "5e6ea6d5-239b-436d-b87b-8293a26f0148",
   "metadata": {},
   "outputs": [
    {
     "name": "stdin",
     "output_type": "stream",
     "text": [
      "Enter a string:  This is a demo string to calculate the length of the string.\n"
     ]
    },
    {
     "name": "stdout",
     "output_type": "stream",
     "text": [
      "Length of the string: 60\n"
     ]
    }
   ],
   "source": [
    "# Input string\n",
    "input_string = input(\"Enter a string: \")\n",
    "\n",
    "# Initialize a counter for the string length\n",
    "length = 0\n",
    "\n",
    "# Use a for loop to count the characters in the string\n",
    "for _ in input_string:\n",
    "    length += 1\n",
    "\n",
    "# Print the length of the string\n",
    "print(\"Length of the string:\", length)\n"
   ]
  },
  {
   "cell_type": "markdown",
   "id": "e5326af7-9acd-4341-ab26-bb88d896c641",
   "metadata": {},
   "source": [
    "9. Write a program that calculates the average of a list of numbers using a `for` loop."
   ]
  },
  {
   "cell_type": "code",
   "execution_count": 10,
   "id": "febc544e-b11f-4fce-a739-682e85146b4e",
   "metadata": {},
   "outputs": [
    {
     "name": "stdout",
     "output_type": "stream",
     "text": [
      "Average: 3.0\n"
     ]
    }
   ],
   "source": [
    "# Create a list of numbers\n",
    "numbers = [1, 2, 3, 4, 5]\n",
    "\n",
    "# Initialize variables for the sum and count\n",
    "total = 0\n",
    "count = 0\n",
    "\n",
    "# Use a for loop to calculate the sum and count\n",
    "for number in numbers:\n",
    "    total += number\n",
    "    count += 1\n",
    "\n",
    "# Calculate the average\n",
    "if count > 0:\n",
    "    average = total / count\n",
    "else:\n",
    "    average = 0\n",
    "\n",
    "# Print the average\n",
    "print(\"Average:\", average)\n"
   ]
  },
  {
   "cell_type": "markdown",
   "id": "d2a4c3f3-ecc3-478e-8f45-7023d6775d3c",
   "metadata": {},
   "source": [
    "10. Develop a program that prints the first `n` Fibonacci numbers using a `for` loop."
   ]
  },
  {
   "cell_type": "code",
   "execution_count": 11,
   "id": "9a276e87-6fe5-4203-9d92-24d3181129d7",
   "metadata": {},
   "outputs": [
    {
     "name": "stdin",
     "output_type": "stream",
     "text": [
      "Enter the number of Fibonacci numbers to generate:  12\n"
     ]
    },
    {
     "name": "stdout",
     "output_type": "stream",
     "text": [
      "Fibonacci sequence:\n",
      "0 1 1 2 3 5 8 13 21 34 55 89 "
     ]
    }
   ],
   "source": [
    "# Input: Number of Fibonacci numbers to generate\n",
    "n = int(input(\"Enter the number of Fibonacci numbers to generate: \"))\n",
    "\n",
    "# Initialize the first two Fibonacci numbers\n",
    "fibonacci_sequence = [0, 1]\n",
    "\n",
    "# Use a for loop to generate the Fibonacci sequence\n",
    "for i in range(2, n):\n",
    "    next_fibonacci = fibonacci_sequence[-1] + fibonacci_sequence[-2]\n",
    "    fibonacci_sequence.append(next_fibonacci)\n",
    "\n",
    "# Print the first n Fibonacci numbers\n",
    "print(\"Fibonacci sequence:\")\n",
    "for number in fibonacci_sequence[:n]:\n",
    "    print(number, end=\" \")\n"
   ]
  },
  {
   "cell_type": "markdown",
   "id": "b9089eed-6ff7-4124-a32d-38ed98fca796",
   "metadata": {},
   "source": [
    "# Intermediate Level:"
   ]
  },
  {
   "cell_type": "markdown",
   "id": "c2acc883-c62a-4562-ad6e-f29a25058894",
   "metadata": {},
   "source": [
    "11. Write a program to check if a given list contains any duplicates using a `for` loop."
   ]
  },
  {
   "cell_type": "code",
   "execution_count": 12,
   "id": "e5c7aa6f-8ac4-4bba-9e1e-c5670aa6646a",
   "metadata": {},
   "outputs": [
    {
     "name": "stdout",
     "output_type": "stream",
     "text": [
      "The list contains duplicates.\n"
     ]
    }
   ],
   "source": [
    "# Input: A list of numbers\n",
    "numbers = [1, 2, 3, 4, 5, 2]  # Replace this list with your own\n",
    "\n",
    "# Initialize a flag to track duplicates\n",
    "has_duplicates = False\n",
    "\n",
    "# Use a for loop to check for duplicates\n",
    "for i in range(len(numbers)):\n",
    "    for j in range(i + 1, len(numbers)):\n",
    "        if numbers[i] == numbers[j]:\n",
    "            has_duplicates = True\n",
    "            break\n",
    "\n",
    "# Print the result\n",
    "if has_duplicates:\n",
    "    print(\"The list contains duplicates.\")\n",
    "else:\n",
    "    print(\"The list does not contain duplicates.\")\n"
   ]
  },
  {
   "cell_type": "markdown",
   "id": "be217445-c182-418c-8507-97bf15ef6ef8",
   "metadata": {},
   "source": [
    "12. Create a program that prints the prime numbers in a given range using a `for` loop."
   ]
  },
  {
   "cell_type": "code",
   "execution_count": 13,
   "id": "1c50af2e-72f4-40d5-b57b-1ce763293b71",
   "metadata": {},
   "outputs": [
    {
     "name": "stdin",
     "output_type": "stream",
     "text": [
      "Enter the start of the range:  1\n",
      "Enter the end of the range:  50\n"
     ]
    },
    {
     "name": "stdout",
     "output_type": "stream",
     "text": [
      "Prime numbers in the range:\n",
      "2 3 5 7 11 13 17 19 23 29 31 37 41 43 47 "
     ]
    }
   ],
   "source": [
    "# Input: Range of numbers (start and end)\n",
    "start = int(input(\"Enter the start of the range: \"))\n",
    "end = int(input(\"Enter the end of the range: \"))\n",
    "\n",
    "# Initialize a list to store prime numbers\n",
    "prime_numbers = []\n",
    "\n",
    "# Use a for loop to check for prime numbers in the range\n",
    "for number in range(start, end + 1):\n",
    "    if number > 1:\n",
    "        is_prime = True\n",
    "        for i in range(2, int(number ** 0.5) + 1):\n",
    "            if number % i == 0:\n",
    "                is_prime = False\n",
    "                break\n",
    "        if is_prime:\n",
    "            prime_numbers.append(number)\n",
    "\n",
    "# Print the prime numbers\n",
    "print(\"Prime numbers in the range:\")\n",
    "for prime in prime_numbers:\n",
    "    print(prime, end=\" \")\n"
   ]
  },
  {
   "cell_type": "markdown",
   "id": "ac4d0da5-a27f-468b-9794-02cdc24dfe23",
   "metadata": {},
   "source": [
    "13. Develop a program that counts the number of vowels in a string using a `for` loop."
   ]
  },
  {
   "cell_type": "code",
   "execution_count": 14,
   "id": "76e04b9c-19a7-44f4-b1d8-43829f78ff35",
   "metadata": {},
   "outputs": [
    {
     "name": "stdin",
     "output_type": "stream",
     "text": [
      "Enter a string:  This is demo string to check vowels.\n"
     ]
    },
    {
     "name": "stdout",
     "output_type": "stream",
     "text": [
      "Number of vowels in the string: 9\n"
     ]
    }
   ],
   "source": [
    "# Input: A string\n",
    "input_string = input(\"Enter a string: \")\n",
    "\n",
    "# Initialize a variable to count vowels\n",
    "vowel_count = 0\n",
    "\n",
    "# Define a set of vowels for comparison\n",
    "vowels = set(\"AEIOUaeiou\")\n",
    "\n",
    "# Use a for loop to count vowels in the string\n",
    "for char in input_string:\n",
    "    if char in vowels:\n",
    "        vowel_count += 1\n",
    "\n",
    "# Print the vowel count\n",
    "print(\"Number of vowels in the string:\", vowel_count)\n"
   ]
  },
  {
   "cell_type": "markdown",
   "id": "e6e5cc26-8f5c-4b3c-8afa-0ed6a132efea",
   "metadata": {},
   "source": [
    "14. Write a program to find the maximum element in a 2D list using a nested `for` loop."
   ]
  },
  {
   "cell_type": "code",
   "execution_count": 15,
   "id": "a79c12ec-4581-415f-ae6e-3b6090c2cbb3",
   "metadata": {},
   "outputs": [
    {
     "name": "stdout",
     "output_type": "stream",
     "text": [
      "Maximum element in the 2D list: 9\n"
     ]
    }
   ],
   "source": [
    "# Input: A 2D list\n",
    "matrix = [\n",
    "    [1, 2, 3],\n",
    "    [4, 5, 6],\n",
    "    [7, 8, 9]\n",
    "]  # Replace this matrix with your own\n",
    "\n",
    "# Initialize a variable to store the maximum element\n",
    "max_element = matrix[0][0]\n",
    "\n",
    "# Use nested for loops to find the maximum element\n",
    "for row in matrix:\n",
    "    for element in row:\n",
    "        if element > max_element:\n",
    "            max_element = element\n",
    "\n",
    "# Print the maximum element\n",
    "print(\"Maximum element in the 2D list:\", max_element)\n"
   ]
  },
  {
   "cell_type": "markdown",
   "id": "2bdb12b6-5cc7-4141-8e63-ada9095a4c79",
   "metadata": {},
   "source": [
    "15. Create a program that removes all occurrences of a specific element from a list using a `for` loop."
   ]
  },
  {
   "cell_type": "code",
   "execution_count": 16,
   "id": "c6084b70-9644-46da-a7d5-db94f5f3b68e",
   "metadata": {},
   "outputs": [
    {
     "name": "stdin",
     "output_type": "stream",
     "text": [
      "Enter the element to remove:  5\n"
     ]
    },
    {
     "name": "stdout",
     "output_type": "stream",
     "text": [
      "List after removing all occurrences of 5 : [1, 2, 3, 4, 2, 2]\n"
     ]
    }
   ],
   "source": [
    "# Input: A list of numbers and an element to remove\n",
    "numbers = [1, 2, 3, 4, 2, 5, 2]  # Replace this list with your own\n",
    "element_to_remove = int(input(\"Enter the element to remove: \"))\n",
    "\n",
    "# Use a for loop to remove all occurrences of the element\n",
    "for number in numbers[:]:  # Use a copy of the list to avoid modifying it while iterating\n",
    "    if number == element_to_remove:\n",
    "        numbers.remove(number)\n",
    "\n",
    "# Print the list after removal\n",
    "print(\"List after removing all occurrences of\", element_to_remove, \":\", numbers)\n"
   ]
  },
  {
   "cell_type": "markdown",
   "id": "1a5624b1-14ed-4db9-81a0-86788fc12111",
   "metadata": {},
   "source": [
    "16. Develop a program that generates a multiplication table for numbers from 1 to 5 using a nested `for` loop."
   ]
  },
  {
   "cell_type": "code",
   "execution_count": 17,
   "id": "9fdf5f2e-081b-4afd-87a6-c90a0535de27",
   "metadata": {},
   "outputs": [
    {
     "name": "stdout",
     "output_type": "stream",
     "text": [
      "Multiplication Table:\n",
      "1 x 1 = 1\n",
      "1 x 2 = 2\n",
      "1 x 3 = 3\n",
      "1 x 4 = 4\n",
      "1 x 5 = 5\n",
      "1 x 6 = 6\n",
      "1 x 7 = 7\n",
      "1 x 8 = 8\n",
      "1 x 9 = 9\n",
      "1 x 10 = 10\n",
      "\n",
      "2 x 1 = 2\n",
      "2 x 2 = 4\n",
      "2 x 3 = 6\n",
      "2 x 4 = 8\n",
      "2 x 5 = 10\n",
      "2 x 6 = 12\n",
      "2 x 7 = 14\n",
      "2 x 8 = 16\n",
      "2 x 9 = 18\n",
      "2 x 10 = 20\n",
      "\n",
      "3 x 1 = 3\n",
      "3 x 2 = 6\n",
      "3 x 3 = 9\n",
      "3 x 4 = 12\n",
      "3 x 5 = 15\n",
      "3 x 6 = 18\n",
      "3 x 7 = 21\n",
      "3 x 8 = 24\n",
      "3 x 9 = 27\n",
      "3 x 10 = 30\n",
      "\n",
      "4 x 1 = 4\n",
      "4 x 2 = 8\n",
      "4 x 3 = 12\n",
      "4 x 4 = 16\n",
      "4 x 5 = 20\n",
      "4 x 6 = 24\n",
      "4 x 7 = 28\n",
      "4 x 8 = 32\n",
      "4 x 9 = 36\n",
      "4 x 10 = 40\n",
      "\n",
      "5 x 1 = 5\n",
      "5 x 2 = 10\n",
      "5 x 3 = 15\n",
      "5 x 4 = 20\n",
      "5 x 5 = 25\n",
      "5 x 6 = 30\n",
      "5 x 7 = 35\n",
      "5 x 8 = 40\n",
      "5 x 9 = 45\n",
      "5 x 10 = 50\n",
      "\n"
     ]
    }
   ],
   "source": [
    "# Define the range of numbers for the multiplication table\n",
    "start_number = 1\n",
    "end_number = 5\n",
    "\n",
    "# Use nested for loops to generate the multiplication table\n",
    "print(\"Multiplication Table:\")\n",
    "for i in range(start_number, end_number + 1):\n",
    "    for j in range(1, 11):  # Multiplication table from 1 to 10\n",
    "        result = i * j\n",
    "        print(f\"{i} x {j} = {result}\")\n",
    "    print()  # Add a blank line after each number's multiplication table\n"
   ]
  },
  {
   "cell_type": "markdown",
   "id": "1902ee8f-7001-470b-a738-88b76791fb0a",
   "metadata": {},
   "source": [
    "17. Write a program that converts a list of Fahrenheit temperatures to Celsius using a `for` loop."
   ]
  },
  {
   "cell_type": "code",
   "execution_count": 18,
   "id": "02697b09-a7ea-41c6-900a-e97c0906ab3b",
   "metadata": {},
   "outputs": [
    {
     "name": "stdout",
     "output_type": "stream",
     "text": [
      "Fahrenheit Temperatures: [32, 68, 95, 104, 212]\n",
      "Celsius Temperatures: [0.0, 20.0, 35.0, 40.0, 100.0]\n"
     ]
    }
   ],
   "source": [
    "# Input: A list of Fahrenheit temperatures\n",
    "fahrenheit_temperatures = [32, 68, 95, 104, 212]  # Replace this list with your own\n",
    "\n",
    "# Initialize a list to store the converted Celsius temperatures\n",
    "celsius_temperatures = []\n",
    "\n",
    "# Use a for loop to convert each Fahrenheit temperature to Celsius\n",
    "for fahrenheit in fahrenheit_temperatures:\n",
    "    celsius = (fahrenheit - 32) * 5/9\n",
    "    celsius_temperatures.append(celsius)\n",
    "\n",
    "# Print the converted Celsius temperatures\n",
    "print(\"Fahrenheit Temperatures:\", fahrenheit_temperatures)\n",
    "print(\"Celsius Temperatures:\", celsius_temperatures)\n"
   ]
  },
  {
   "cell_type": "markdown",
   "id": "6d06a5a1-662d-46ab-ae7f-ec7f90a5feb0",
   "metadata": {},
   "source": [
    "18. Create a program to print the common elements from two lists using a `for` loop."
   ]
  },
  {
   "cell_type": "code",
   "execution_count": 19,
   "id": "a89fcd0d-fd00-40df-a2d0-c42b356aae86",
   "metadata": {},
   "outputs": [
    {
     "name": "stdout",
     "output_type": "stream",
     "text": [
      "Common elements: [3, 4, 5]\n"
     ]
    }
   ],
   "source": [
    "# Input: Two lists of numbers\n",
    "list1 = [1, 2, 3, 4, 5]\n",
    "list2 = [3, 4, 5, 6, 7]\n",
    "\n",
    "# Initialize an empty list to store common elements\n",
    "common_elements = []\n",
    "\n",
    "# Use a for loop to find common elements\n",
    "for element in list1:\n",
    "    if element in list2:\n",
    "        common_elements.append(element)\n",
    "\n",
    "# Print the common elements\n",
    "print(\"Common elements:\", common_elements)\n"
   ]
  },
  {
   "cell_type": "markdown",
   "id": "e709bc77-5b86-4c10-8c56-ac6e1dcdfc9f",
   "metadata": {},
   "source": [
    "19. Develop a program that prints the pattern of right-angled triangles using a `for` loop. Use ‘*’ to draw the\n",
    "pattern"
   ]
  },
  {
   "cell_type": "code",
   "execution_count": 20,
   "id": "07a958f4-7bca-4006-bb3e-c7ce24545270",
   "metadata": {},
   "outputs": [
    {
     "name": "stdout",
     "output_type": "stream",
     "text": [
      "*\n",
      "**\n",
      "***\n",
      "****\n",
      "*****\n"
     ]
    }
   ],
   "source": [
    "# Input: Number of rows for the right-angled triangle\n",
    "num_rows = 5  # You can change this value to control the height of the triangle\n",
    "\n",
    "# Use a for loop to print the right-angled triangle pattern\n",
    "for i in range(1, num_rows + 1):\n",
    "    print('*' * i)\n"
   ]
  },
  {
   "cell_type": "markdown",
   "id": "98dadad7-e844-4e74-8b1e-232f9b2e2114",
   "metadata": {},
   "source": [
    "20. Write a program to find the greatest common divisor (GCD) of two numbers using a `for` loop."
   ]
  },
  {
   "cell_type": "code",
   "execution_count": 21,
   "id": "b625261d-21ce-43c0-8111-95f83b8532ca",
   "metadata": {},
   "outputs": [
    {
     "name": "stdin",
     "output_type": "stream",
     "text": [
      "Enter the first number:  22\n",
      "Enter the second number:  11\n"
     ]
    },
    {
     "name": "stdout",
     "output_type": "stream",
     "text": [
      "GCD of 22 and 11 is 11\n"
     ]
    }
   ],
   "source": [
    "# Input: Two numbers for which you want to find the GCD\n",
    "num1 = int(input(\"Enter the first number: \"))\n",
    "num2 = int(input(\"Enter the second number: \"))\n",
    "\n",
    "# Function to find the GCD using the Euclidean algorithm\n",
    "def find_gcd(a, b):\n",
    "    while b:\n",
    "        a, b = b, a % b\n",
    "    return a\n",
    "\n",
    "# Calculate and print the GCD\n",
    "gcd = find_gcd(num1, num2)\n",
    "print(\"GCD of\", num1, \"and\", num2, \"is\", gcd)\n"
   ]
  },
  {
   "cell_type": "markdown",
   "id": "306e6c8f-1648-4725-8b51-157cf2a18c25",
   "metadata": {},
   "source": [
    "# Advanced Level:"
   ]
  },
  {
   "cell_type": "markdown",
   "id": "9cb9c080-ac47-4403-95aa-593043a3e25e",
   "metadata": {},
   "source": [
    "21. Create a program that calculates the sum of the digits of numbers in a list using a list comprehension."
   ]
  },
  {
   "cell_type": "code",
   "execution_count": 22,
   "id": "d984cfb7-b417-4f2a-b429-b095ac4e210f",
   "metadata": {},
   "outputs": [
    {
     "name": "stdout",
     "output_type": "stream",
     "text": [
      "Number: 123, Sum of Digits: 6\n",
      "Number: 45, Sum of Digits: 9\n",
      "Number: 678, Sum of Digits: 21\n",
      "Number: 9, Sum of Digits: 9\n"
     ]
    }
   ],
   "source": [
    "# Input: A list of numbers\n",
    "numbers = [123, 45, 678, 9]\n",
    "\n",
    "# Define a function to calculate the sum of digits in a number\n",
    "def sum_of_digits(number):\n",
    "    return sum(int(digit) for digit in str(number))\n",
    "\n",
    "# Use a list comprehension to calculate the sum of digits for each number in the list\n",
    "sums = [sum_of_digits(number) for number in numbers]\n",
    "\n",
    "# Print the original numbers and their corresponding sums of digits\n",
    "for i in range(len(numbers)):\n",
    "    print(f\"Number: {numbers[i]}, Sum of Digits: {sums[i]}\")\n"
   ]
  },
  {
   "cell_type": "markdown",
   "id": "915ffed3-78c8-44b3-9925-5e4fffaa4abd",
   "metadata": {},
   "source": [
    "22. Write a program to find the prime factors of a given number using a `for` loop and list comprehension."
   ]
  },
  {
   "cell_type": "code",
   "execution_count": 25,
   "id": "f33ba198-9485-46e5-8e23-c088ba4fa6db",
   "metadata": {},
   "outputs": [
    {
     "name": "stdin",
     "output_type": "stream",
     "text": [
      "Enter a number:  14\n"
     ]
    },
    {
     "name": "stdout",
     "output_type": "stream",
     "text": [
      "Prime factors of 14: [2, 7]\n"
     ]
    }
   ],
   "source": [
    "# Input: A number for which you want to find the prime factors\n",
    "number = int(input(\"Enter a number: \"))\n",
    "\n",
    "# Function to find prime factors of a number\n",
    "def prime_factors(n):\n",
    "    factors = []\n",
    "    divisor = 2\n",
    "\n",
    "    while divisor <= n:\n",
    "        if n % divisor == 0:\n",
    "            factors.append(divisor)\n",
    "            n //= divisor\n",
    "        else:\n",
    "            divisor += 1\n",
    "    return factors\n",
    "\n",
    "# Use list comprehension to find prime factors\n",
    "factors = prime_factors(number)\n",
    "\n",
    "# Print the prime factors of the input number\n",
    "print(f\"Prime factors of {number}: {factors}\")\n"
   ]
  },
  {
   "cell_type": "markdown",
   "id": "3f524202-ee96-4fb3-a1aa-790f59c5a40b",
   "metadata": {},
   "source": [
    "23. Develop a program that extracts unique elements from a list and stores them in a new list using a list\n",
    "comprehension."
   ]
  },
  {
   "cell_type": "code",
   "execution_count": 26,
   "id": "ef029f71-5b03-447c-8017-ad91f6694d2d",
   "metadata": {},
   "outputs": [
    {
     "name": "stdout",
     "output_type": "stream",
     "text": [
      "Original List: [1, 2, 2, 3, 4, 4, 5, 5, 5]\n",
      "Unique List: [1, 3]\n"
     ]
    }
   ],
   "source": [
    "# Input: A list with duplicate elements\n",
    "original_list = [1, 2, 2, 3, 4, 4, 5, 5, 5]\n",
    "\n",
    "# Use a list comprehension to extract unique elements\n",
    "unique_list = [x for x in original_list if original_list.count(x) == 1]\n",
    "\n",
    "# Print the original list and the list containing unique elements\n",
    "print(\"Original List:\", original_list)\n",
    "print(\"Unique List:\", unique_list)\n"
   ]
  },
  {
   "cell_type": "markdown",
   "id": "2bbbc45f-8872-473e-a047-116a20226bb5",
   "metadata": {},
   "source": [
    "24. Create a program that generates a list of all palindromic numbers up to a specified limit using a list\n",
    "comprehension."
   ]
  },
  {
   "cell_type": "code",
   "execution_count": 27,
   "id": "4e2c3966-c8d3-407d-ba46-0d794aeda2ad",
   "metadata": {},
   "outputs": [
    {
     "name": "stdin",
     "output_type": "stream",
     "text": [
      "Enter the upper limit:  20\n"
     ]
    },
    {
     "name": "stdout",
     "output_type": "stream",
     "text": [
      "Palindromic Numbers up to 20 are: [1, 2, 3, 4, 5, 6, 7, 8, 9, 11]\n"
     ]
    }
   ],
   "source": [
    "# Input: Specify the upper limit\n",
    "limit = int(input(\"Enter the upper limit: \"))\n",
    "\n",
    "# Check if a number is palindromic\n",
    "def is_palindrome(number):\n",
    "    return str(number) == str(number)[::-1]\n",
    "\n",
    "# Use a list comprehension to generate a list of palindromic numbers\n",
    "palindromic_numbers = [num for num in range(1, limit + 1) if is_palindrome(num)]\n",
    "\n",
    "# Print the list of palindromic numbers\n",
    "print(\"Palindromic Numbers up to\", limit, \"are:\", palindromic_numbers)\n"
   ]
  },
  {
   "cell_type": "markdown",
   "id": "13f2e7a9-9662-49b8-89c8-413936e7a5fa",
   "metadata": {},
   "source": [
    "25. Write a program to flatten a nested list using list comprehension."
   ]
  },
  {
   "cell_type": "code",
   "execution_count": 28,
   "id": "3324b8ac-c507-4715-8d38-b9275492d6de",
   "metadata": {},
   "outputs": [
    {
     "name": "stdout",
     "output_type": "stream",
     "text": [
      "Original Nested List: [[1, 2, 3], [4, 5, 6], [7, 8, 9]]\n",
      "Flattened List: [1, 2, 3, 4, 5, 6, 7, 8, 9]\n"
     ]
    }
   ],
   "source": [
    "# Input: A nested list\n",
    "nested_list = [\n",
    "                [1, 2, 3], \n",
    "                [4, 5, 6], \n",
    "                [7, 8, 9]]\n",
    "\n",
    "# Use a list comprehension to flatten the nested list\n",
    "flattened_list = [item for sublist in nested_list for item in sublist]\n",
    "\n",
    "# Print the original nested list and the flattened list\n",
    "print(\"Original Nested List:\", nested_list)\n",
    "print(\"Flattened List:\", flattened_list)\n"
   ]
  },
  {
   "cell_type": "markdown",
   "id": "aa818e4e-2619-4439-b0ab-217348464e85",
   "metadata": {},
   "source": [
    "26. Develop a program that computes the sum of even and odd numbers in a list separately using list\n",
    "comprehension."
   ]
  },
  {
   "cell_type": "code",
   "execution_count": 29,
   "id": "1b23768e-ff82-4f65-9294-d0a377995013",
   "metadata": {},
   "outputs": [
    {
     "name": "stdout",
     "output_type": "stream",
     "text": [
      "Original List: [1, 2, 3, 4, 5, 6, 7, 8, 9, 10]\n",
      "Sum of Even Numbers: 30\n",
      "Sum of Odd Numbers: 25\n"
     ]
    }
   ],
   "source": [
    "# Input: A list of numbers\n",
    "numbers = [1, 2, 3, 4, 5, 6, 7, 8, 9, 10]\n",
    "\n",
    "# Use list comprehension to separate even and odd numbers and calculate their sums\n",
    "even_sum = sum([num for num in numbers if num % 2 == 0])\n",
    "odd_sum = sum([num for num in numbers if num % 2 != 0])\n",
    "\n",
    "# Print the original list and the sums of even and odd numbers\n",
    "print(\"Original List:\", numbers)\n",
    "print(\"Sum of Even Numbers:\", even_sum)\n",
    "print(\"Sum of Odd Numbers:\", odd_sum)\n"
   ]
  },
  {
   "cell_type": "markdown",
   "id": "7bbcef74-baa6-4610-b83f-3b74f6cf36f4",
   "metadata": {},
   "source": [
    "27. Create a program that generates a list of squares of odd numbers between 1 and 10 using list\n",
    "comprehension."
   ]
  },
  {
   "cell_type": "code",
   "execution_count": 30,
   "id": "501175fa-9c2a-4877-93ea-010e8d4f332d",
   "metadata": {},
   "outputs": [
    {
     "name": "stdout",
     "output_type": "stream",
     "text": [
      "Squares of Odd Numbers between 1 and 10: [1, 9, 25, 49, 81]\n"
     ]
    }
   ],
   "source": [
    "# Use list comprehension to generate a list of squares of odd numbers between 1 and 10\n",
    "squares_of_odd_numbers = [num ** 2 for num in range(1, 11) if num % 2 != 0]\n",
    "\n",
    "# Print the list of squares of odd numbers\n",
    "print(\"Squares of Odd Numbers between 1 and 10:\", squares_of_odd_numbers)\n"
   ]
  },
  {
   "cell_type": "markdown",
   "id": "2b75f05a-08ff-4770-be77-d1a361df7c45",
   "metadata": {},
   "source": [
    "28. Write a program that combines two lists into a dictionary using list comprehension."
   ]
  },
  {
   "cell_type": "code",
   "execution_count": 31,
   "id": "bc869efc-90eb-4f87-901e-158b9357b516",
   "metadata": {},
   "outputs": [
    {
     "name": "stdout",
     "output_type": "stream",
     "text": [
      "Combined Dictionary: {'name': 'Alice', 'age': 30, 'city': 'New York'}\n"
     ]
    }
   ],
   "source": [
    "# Input: Two lists, one for keys and another for values\n",
    "keys = [\"name\", \"age\", \"city\"]\n",
    "values = [\"Alice\", 30, \"New York\"]\n",
    "\n",
    "# Use list comprehension to create a dictionary\n",
    "combined_dict = {keys[i]: values[i] for i in range(len(keys))}\n",
    "\n",
    "# Print the combined dictionary\n",
    "print(\"Combined Dictionary:\", combined_dict)\n"
   ]
  },
  {
   "cell_type": "markdown",
   "id": "8ecb1d34-178e-4f11-beaf-b94392b36588",
   "metadata": {},
   "source": [
    "29. Develop a program that extracts the vowels from a string and stores them in a list using list comprehension."
   ]
  },
  {
   "cell_type": "code",
   "execution_count": 32,
   "id": "da97f03f-5d68-43a9-8dc6-909e9f2b3af4",
   "metadata": {},
   "outputs": [
    {
     "name": "stdout",
     "output_type": "stream",
     "text": [
      "Vowels in the String: ['e', 'o', 'o']\n"
     ]
    }
   ],
   "source": [
    "# Input: A string\n",
    "input_string = \"Hello, World!\"\n",
    "\n",
    "# Use list comprehension to extract vowels and store them in a list\n",
    "vowels = [char for char in input_string if char.lower() in \"aeiouAEIOU\"]\n",
    "\n",
    "# Print the list of extracted vowels\n",
    "print(\"Vowels in the String:\", vowels)\n"
   ]
  },
  {
   "cell_type": "markdown",
   "id": "bcf5ab8c-bf24-4f87-9770-aac1ff89ff08",
   "metadata": {},
   "source": [
    "30. Create a program that removes all non-numeric characters from a list of strings using list comprehension."
   ]
  },
  {
   "cell_type": "code",
   "execution_count": 33,
   "id": "fe8460c2-f323-4f62-9bbf-22b07d4b5445",
   "metadata": {},
   "outputs": [
    {
     "name": "stdout",
     "output_type": "stream",
     "text": [
      "Numeric Strings: ['123', '456', '789', '']\n"
     ]
    }
   ],
   "source": [
    "# Input: A list of strings with mixed characters\n",
    "string_list = [\"abc123\", \"456def\", \"789ghi\", \"jklmno\"]\n",
    "\n",
    "# Use list comprehension to remove non-numeric characters\n",
    "numeric_strings = [''.join(char for char in s if char.isdigit()) for s in string_list]\n",
    "\n",
    "# Print the list of numeric strings\n",
    "print(\"Numeric Strings:\", numeric_strings)\n"
   ]
  },
  {
   "cell_type": "markdown",
   "id": "3c7a17ee-f74c-4bee-9f72-5eb1e17565e6",
   "metadata": {},
   "source": [
    "# Challenge Level:"
   ]
  },
  {
   "cell_type": "markdown",
   "id": "32072bd9-8760-49d5-bb3e-7205edf9eb06",
   "metadata": {},
   "source": [
    "31. Write a program to generate a list of prime numbers using the Sieve of Eratosthenes algorithm and list\n",
    "comprehension."
   ]
  },
  {
   "cell_type": "code",
   "execution_count": 34,
   "id": "83d69c40-d9f5-4fa5-b23c-9ec62c9a2fad",
   "metadata": {},
   "outputs": [
    {
     "name": "stdout",
     "output_type": "stream",
     "text": [
      "Prime Numbers up to 50 : [2, 3, 5, 7, 11, 13, 17, 19, 23, 29, 31, 37, 41, 43, 47]\n"
     ]
    }
   ],
   "source": [
    "def sieve_eratosthenes(n):\n",
    "    # Create a list of True values, representing numbers from 0 to n\n",
    "    is_prime = [True] * (n + 1)\n",
    "    is_prime[0] = is_prime[1] = False  # 0 and 1 are not prime\n",
    "    \n",
    "    for p in range(2, int(n**0.5) + 1):\n",
    "        if is_prime[p]:\n",
    "            for i in range(p * p, n + 1, p):\n",
    "                is_prime[i] = False\n",
    "    \n",
    "    # Use list comprehension to generate a list of prime numbers\n",
    "    primes = [num for num in range(2, n + 1) if is_prime[num]]\n",
    "    \n",
    "    return primes\n",
    "\n",
    "# Input: Upper limit for prime numbers\n",
    "n = 50  # You can change this to generate primes up to a different limit\n",
    "\n",
    "# Generate a list of prime numbers up to n\n",
    "prime_numbers = sieve_eratosthenes(n)\n",
    "\n",
    "# Print the list of prime numbers\n",
    "print(\"Prime Numbers up to\", n, \":\", prime_numbers)\n"
   ]
  },
  {
   "cell_type": "markdown",
   "id": "70a85ad6-d7de-4ca6-8f5e-ecb1fbfed0a8",
   "metadata": {},
   "source": [
    "32. Create a program that generates a list of all Pythagorean triplets up to a specified limit using list\n",
    "comprehension."
   ]
  },
  {
   "cell_type": "code",
   "execution_count": 35,
   "id": "b4efca4b-8fd4-4c53-8419-a28fa8540d5b",
   "metadata": {},
   "outputs": [
    {
     "name": "stdout",
     "output_type": "stream",
     "text": [
      "Pythagorean Triplets up to 20 : [(3, 4, 5), (5, 12, 13), (6, 8, 10), (8, 15, 17), (9, 12, 15), (12, 16, 20)]\n"
     ]
    }
   ],
   "source": [
    "# Input: Upper limit for the Pythagorean triplets\n",
    "limit = 20  # You can change this to generate triplets up to a different limit\n",
    "\n",
    "# Use list comprehension to generate a list of Pythagorean triplets\n",
    "pythagorean_triplets = [(a, b, c) for a in range(1, limit + 1)\n",
    "                        for b in range(a, limit + 1)\n",
    "                        for c in range(b, limit + 1)\n",
    "                        if a**2 + b**2 == c**2]\n",
    "\n",
    "# Print the list of Pythagorean triplets\n",
    "print(\"Pythagorean Triplets up to\", limit, \":\", pythagorean_triplets)\n"
   ]
  },
  {
   "cell_type": "markdown",
   "id": "258aff6c-1445-4339-b79c-6b895ef0202a",
   "metadata": {},
   "source": [
    "33. Develop a program that generates a list of all possible combinations of two lists using list comprehension."
   ]
  },
  {
   "cell_type": "code",
   "execution_count": 36,
   "id": "e0774d03-4244-4138-970a-4384f8c13bc9",
   "metadata": {},
   "outputs": [
    {
     "name": "stdout",
     "output_type": "stream",
     "text": [
      "Combinations of [1, 2, 3] and ['a', 'b', 'c'] : [(1, 'a'), (1, 'b'), (1, 'c'), (2, 'a'), (2, 'b'), (2, 'c'), (3, 'a'), (3, 'b'), (3, 'c')]\n"
     ]
    }
   ],
   "source": [
    "# Input: Two lists\n",
    "list1 = [1, 2, 3]\n",
    "list2 = ['a', 'b', 'c']\n",
    "\n",
    "# Use list comprehension to generate all possible combinations\n",
    "combinations = [(x, y) for x in list1 for y in list2]\n",
    "\n",
    "# Print the list of combinations\n",
    "print(\"Combinations of\", list1, \"and\", list2, \":\", combinations)\n"
   ]
  },
  {
   "cell_type": "markdown",
   "id": "1e5bdfbc-153f-42e9-aed4-22296ad802d9",
   "metadata": {},
   "source": [
    "34. Write a program that calculates the mean, median, and mode of a list of numbers using list\n",
    "comprehension."
   ]
  },
  {
   "cell_type": "code",
   "execution_count": 37,
   "id": "9da80ffd-e53c-43aa-ab98-0119215367e4",
   "metadata": {},
   "outputs": [
    {
     "name": "stdout",
     "output_type": "stream",
     "text": [
      "Mean: 5.0\n",
      "Median: 5.0\n",
      "Mode: [5]\n"
     ]
    }
   ],
   "source": [
    "# Input: A list of numbers\n",
    "numbers = [1, 2, 3, 4, 5, 5, 6, 7, 8, 9]\n",
    "\n",
    "# Calculate the mean using list comprehension\n",
    "mean = sum(numbers) / len(numbers)\n",
    "\n",
    "# Calculate the median using list comprehension\n",
    "sorted_numbers = sorted(numbers)\n",
    "middle = len(sorted_numbers) // 2\n",
    "median = (sorted_numbers[middle] + sorted_numbers[-middle - 1]) / 2\n",
    "\n",
    "# Calculate the mode using list comprehension\n",
    "from collections import Counter\n",
    "number_counts = Counter(numbers)\n",
    "mode = [k for k, v in number_counts.items() if v == max(number_counts.values())]\n",
    "\n",
    "# Print the mean, median, and mode\n",
    "print(\"Mean:\", mean)\n",
    "print(\"Median:\", median)\n",
    "print(\"Mode:\", mode)\n"
   ]
  },
  {
   "cell_type": "markdown",
   "id": "7ad6c76a-cd7e-4794-86d3-efedfba21465",
   "metadata": {},
   "source": [
    "35. Create a program that generates Pascal's triangle up to a specified number of rows using list\n",
    "comprehension."
   ]
  },
  {
   "cell_type": "code",
   "execution_count": 38,
   "id": "401cbf02-4394-46a2-b387-54f9bebb8c91",
   "metadata": {},
   "outputs": [
    {
     "name": "stdout",
     "output_type": "stream",
     "text": [
      "[1]\n",
      "[1, 1]\n",
      "[1, 2, 1]\n",
      "[1, 3, 3, 1]\n",
      "[1, 4, 6, 4, 1]\n"
     ]
    }
   ],
   "source": [
    "def generate_pascals_triangle(num_rows):\n",
    "    if num_rows <= 0:\n",
    "        return []\n",
    "\n",
    "    triangle = [[1]]\n",
    "    \n",
    "    for i in range(1, num_rows):\n",
    "        prev_row = triangle[-1]\n",
    "        new_row = [1] + [prev_row[j] + prev_row[j + 1] for j in range(len(prev_row) - 1)] + [1]\n",
    "        triangle.append(new_row)\n",
    "    \n",
    "    return triangle\n",
    "\n",
    "# Input: Number of rows for Pascal's triangle\n",
    "num_rows = 5  # You can change this to generate Pascal's triangle with a different number of rows\n",
    "\n",
    "# Generate Pascal's triangle\n",
    "pascals_triangle = generate_pascals_triangle(num_rows)\n",
    "\n",
    "# Print Pascal's triangle\n",
    "for row in pascals_triangle:\n",
    "    print(row)\n"
   ]
  },
  {
   "cell_type": "markdown",
   "id": "ca10c386-9e3a-4fa6-8e94-1a456c431b8e",
   "metadata": {},
   "source": [
    "36. Develop a program that calculates the sum of the digits of a factorial of numbers from 1 to 5 using list\n",
    "comprehension."
   ]
  },
  {
   "cell_type": "code",
   "execution_count": 39,
   "id": "fd41f571-a548-4d76-85be-1485a387c537",
   "metadata": {},
   "outputs": [
    {
     "name": "stdout",
     "output_type": "stream",
     "text": [
      "Sum of digits of 1!: 1\n",
      "Sum of digits of 2!: 2\n",
      "Sum of digits of 3!: 6\n",
      "Sum of digits of 4!: 6\n",
      "Sum of digits of 5!: 3\n"
     ]
    }
   ],
   "source": [
    "# Function to calculate the factorial of a number\n",
    "def factorial(n):\n",
    "    if n == 0:\n",
    "        return 1\n",
    "    else:\n",
    "        return n * factorial(n - 1)\n",
    "\n",
    "# Input: List of numbers\n",
    "numbers = [1, 2, 3, 4, 5]\n",
    "\n",
    "# Calculate the sum of digits of factorial for each number using list comprehension\n",
    "sums_of_digits = [sum(int(digit) for digit in str(factorial(num))) for num in numbers]\n",
    "\n",
    "# Print the sums of digits\n",
    "for i, num in enumerate(numbers):\n",
    "    print(f\"Sum of digits of {num}!:\", sums_of_digits[i])\n"
   ]
  },
  {
   "cell_type": "markdown",
   "id": "6782226f-69d3-4baf-925f-c5deefec5e70",
   "metadata": {},
   "source": [
    "37. Write a program that finds the longest word in a sentence using list comprehension."
   ]
  },
  {
   "cell_type": "code",
   "execution_count": 40,
   "id": "5ed6645a-a898-4c31-9e80-e94881b123be",
   "metadata": {},
   "outputs": [
    {
     "name": "stdout",
     "output_type": "stream",
     "text": [
      "Longest word in the sentence: comprehension.\n"
     ]
    }
   ],
   "source": [
    "# Input: A sentence as a string\n",
    "sentence = \"This is a sample sentence to find the longest word using list comprehension.\"\n",
    "\n",
    "# Split the sentence into words using list comprehension\n",
    "words = sentence.split()\n",
    "\n",
    "# Find the longest word using list comprehension\n",
    "longest_word = max(words, key=lambda word: len(word))\n",
    "\n",
    "# Print the longest word\n",
    "print(\"Longest word in the sentence:\", longest_word)\n"
   ]
  },
  {
   "cell_type": "markdown",
   "id": "9c544c92-9b5d-4a58-9186-1c690c1d2585",
   "metadata": {},
   "source": [
    "38. Create a program that filters a list of strings to include only those with more than three vowels using list\n",
    "comprehension."
   ]
  },
  {
   "cell_type": "code",
   "execution_count": 41,
   "id": "8623b2e9-cfd8-45eb-b433-02ad2663cf36",
   "metadata": {},
   "outputs": [
    {
     "name": "stdout",
     "output_type": "stream",
     "text": [
      "Strings with more than three vowels:\n",
      "python programming\n",
      "education is important\n",
      "good morning\n"
     ]
    }
   ],
   "source": [
    "# Input: A list of strings\n",
    "string_list = [\n",
    "    \"hello world\",\n",
    "    \"apple\",\n",
    "    \"python programming\",\n",
    "    \"education is important\",\n",
    "    \"good morning\"\n",
    "]\n",
    "\n",
    "# Function to count vowels in a string\n",
    "def count_vowels(s):\n",
    "    vowels = \"AEIOUaeiou\"\n",
    "    return sum(1 for char in s if char in vowels)\n",
    "\n",
    "# Filter strings with more than three vowels using list comprehension\n",
    "filtered_strings = [s for s in string_list if count_vowels(s) > 3]\n",
    "\n",
    "# Print the filtered strings\n",
    "print(\"Strings with more than three vowels:\")\n",
    "for s in filtered_strings:\n",
    "    print(s)\n"
   ]
  },
  {
   "cell_type": "markdown",
   "id": "6aeb3e27-cba1-49b0-9e9e-1d6479e2faf0",
   "metadata": {},
   "source": [
    "39. Develop a program that calculates the sum of the digits of numbers from 1 to 1000 using list\n",
    "comprehension."
   ]
  },
  {
   "cell_type": "code",
   "execution_count": 42,
   "id": "50f1603f-802b-440a-9ff2-d87977b6868b",
   "metadata": {},
   "outputs": [
    {
     "name": "stdout",
     "output_type": "stream",
     "text": [
      "Total sum of digits from 1 to 1000: 13501\n"
     ]
    }
   ],
   "source": [
    "# Function to calculate the sum of digits in a number\n",
    "def sum_of_digits(number):\n",
    "    return sum(int(digit) for digit in str(number))\n",
    "\n",
    "# Calculate the sum of digits for numbers from 1 to 1000 using list comprehension\n",
    "sums_of_digits = [sum_of_digits(number) for number in range(1, 1001)]\n",
    "\n",
    "# Calculate the total sum of digits\n",
    "total_sum = sum(sums_of_digits)\n",
    "\n",
    "# Print the total sum\n",
    "print(\"Total sum of digits from 1 to 1000:\", total_sum)\n"
   ]
  },
  {
   "cell_type": "markdown",
   "id": "e69931cf-82df-40de-9257-53d634171899",
   "metadata": {},
   "source": [
    "40. Write a program that generates a list of prime palindromic numbers using list comprehension."
   ]
  },
  {
   "cell_type": "code",
   "execution_count": null,
   "id": "5d9830ea-6a65-4959-ae88-940c88c6f8a2",
   "metadata": {},
   "outputs": [],
   "source": [
    "# Function to check if a number is prime\n",
    "def is_prime(n):\n",
    "    if n <= 1:\n",
    "        return False\n",
    "    if n <= 3:\n",
    "        return True\n",
    "    if n % 2 == 0 or n % 3 == 0:\n",
    "        return False\n",
    "    i = 5\n",
    "    while i * i <= n:\n",
    "        if n % i == 0 or n % (i + 2) == 0:\n",
    "            return False\n",
    "        i += 6\n",
    "    return True\n",
    "\n",
    "# Generate a list of prime palindromic numbers using list comprehension\n",
    "prime_palindromic_numbers = [n for n in range(1, 1000) if is_prime(n) and str(n) == str(n)[::-1]]\n",
    "\n",
    "# Print the list of prime palindromic numbers\n",
    "print(\"Prime palindromic numbers:\", prime_palindromic_numbers)\n"
   ]
  },
  {
   "cell_type": "code",
   "execution_count": null,
   "id": "1e63bd27-6746-455b-851f-6ee3d5d25e7c",
   "metadata": {},
   "outputs": [],
   "source": []
  }
 ],
 "metadata": {
  "kernelspec": {
   "display_name": "Python 3 (ipykernel)",
   "language": "python",
   "name": "python3"
  },
  "language_info": {
   "codemirror_mode": {
    "name": "ipython",
    "version": 3
   },
   "file_extension": ".py",
   "mimetype": "text/x-python",
   "name": "python",
   "nbconvert_exporter": "python",
   "pygments_lexer": "ipython3",
   "version": "3.10.8"
  }
 },
 "nbformat": 4,
 "nbformat_minor": 5
}
